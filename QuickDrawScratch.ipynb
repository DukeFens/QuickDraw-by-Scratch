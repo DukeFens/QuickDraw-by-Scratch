{
  "nbformat": 4,
  "nbformat_minor": 0,
  "metadata": {
    "colab": {
      "provenance": [],
      "authorship_tag": "ABX9TyM/K6Q9POX9oc5u75SZrGOX",
      "include_colab_link": true
    },
    "kernelspec": {
      "name": "python3",
      "display_name": "Python 3"
    },
    "language_info": {
      "name": "python"
    }
  },
  "cells": [
    {
      "cell_type": "markdown",
      "metadata": {
        "id": "view-in-github",
        "colab_type": "text"
      },
      "source": [
        "<a href=\"https://colab.research.google.com/github/DukeFens/QuickDraw-by-Scratch/blob/main/QuickDrawScratch.ipynb\" target=\"_parent\"><img src=\"https://colab.research.google.com/assets/colab-badge.svg\" alt=\"Open In Colab\"/></a>"
      ]
    },
    {
      "cell_type": "markdown",
      "source": [
        "# Preprocessing Data"
      ],
      "metadata": {
        "id": "To03m7ZTtX-J"
      }
    },
    {
      "cell_type": "markdown",
      "source": [
        "We perform CNN to detect 5 of animals in Quickdraw Dataset: cat, dog, dolphin, elephant and zebra. First, we dowload each of them:"
      ],
      "metadata": {
        "id": "VyTmxjCnsR50"
      }
    },
    {
      "cell_type": "code",
      "source": [
        "import os\n",
        "import numpy as np\n",
        "import requests\n",
        "\n",
        "def download_QuickDraw_dataset():\n",
        "  # Create a folder to store the dataset\n",
        "  os.makedirs(\"quickdraw_animals\", exist_ok=True)\n",
        "\n",
        "  # List of animals to download\n",
        "  animals = [\"cat\", \"dog\", \"elephant\", \"zebra\", \"dolphin\"]\n",
        "\n",
        "  # Base URL for QuickDraw .npy files\n",
        "  base_url = \"https://storage.googleapis.com/quickdraw_dataset/full/numpy_bitmap/\"\n",
        "\n",
        "  for animal in animals:\n",
        "      file_name = f\"{animal}.npy\"\n",
        "      url = base_url + file_name.replace(\" \", \"%20\")\n",
        "      print(f\"Downloading {animal}...\")\n",
        "      response = requests.get(url)\n",
        "      with open(os.path.join(\"quickdraw_animals\", file_name), \"wb\") as f:\n",
        "          f.write(response.content)\n",
        "\n",
        "  print(\"Download complete!\")"
      ],
      "metadata": {
        "id": "-XbscqOtqsD0"
      },
      "execution_count": null,
      "outputs": []
    },
    {
      "cell_type": "code",
      "source": [
        "def load_data(animal):\n",
        "  \"\"\"\n",
        "  Purpose:\n",
        "        - load data of the animal by its name\n",
        "  Params:\n",
        "        - animal (str): name of class (cat, dog, dolphin, elephant, zebra)\n",
        "  Returns:\n",
        "        - data (ndarray): data of the animal\n",
        "  \"\"\"\n",
        "  path = os.path.join(\"quickdraw_animals\", f\"{animal}.npy\")\n",
        "  data = np.load(path)\n",
        "  return data\n",
        "\n",
        "cat_data = load_data(\"cat\")\n",
        "print(cat_data.shape)"
      ],
      "metadata": {
        "colab": {
          "base_uri": "https://localhost:8080/"
        },
        "id": "emzRRGlhw-46",
        "outputId": "54358a99-6014-4762-fd2a-9605a38edbb6"
      },
      "execution_count": null,
      "outputs": [
        {
          "output_type": "stream",
          "name": "stdout",
          "text": [
            "(123202, 784)\n"
          ]
        }
      ]
    },
    {
      "cell_type": "markdown",
      "source": [
        "We label the data by a vector size of 5 and each element has value of 1 or 0, we assume the dataset follows this rule:\n",
        "- 0 (cat)      → [1, 0, 0, 0, 0]\n",
        "- 1 (dog)      → [0, 1, 0, 0, 0]\n",
        "- 2 (dolphin) → [0, 0, 1, 0, 0]\n",
        "- 3 (elephant)    → [0, 0, 0, 1, 0]\n",
        "- 4 (zebra)  → [0, 0, 0, 0, 1]"
      ],
      "metadata": {
        "id": "VyJicM_3uQ7I"
      }
    },
    {
      "cell_type": "code",
      "source": [
        "def label_data(data, label, X, Y):\n",
        "    \"\"\"\n",
        "    Purpose:\n",
        "        - label the data by its label\n",
        "    Params:\n",
        "        - data (ndarray): data of the animal that unlabeled\n",
        "        - label (ndarray): label of the animal\n",
        "        - X (list): list of data that labeled\n",
        "        - Y (list): list of label\n",
        "    \"\"\"\n",
        "    label = np.tile(label, (data.shape[0], 1))  # shape is (N, 5)\n",
        "    data = data.reshape(-1, 28, 28, 1)\n",
        "\n",
        "    X.append(data)\n",
        "    Y.append(label)\n",
        "\n",
        "def initialize_data():\n",
        "  \"\"\"\n",
        "  Purpose:\n",
        "        - initialize the data and label\n",
        "  Returns:\n",
        "        - X (list): list of data that labeled\n",
        "        - Y (list): list of label\n",
        "  \"\"\"\n",
        "  X = []\n",
        "  Y = []\n",
        "  target = np.array([\"cat\", \"dog\", \"dolphin\", \"elephant\", \"zebra\"])\n",
        "\n",
        "  for animal in target:\n",
        "    print(f\"Processing {animal}...\")\n",
        "    data = load_data(animal)\n",
        "    data = data[:10000] #limit data\n",
        "    label = np.array((target == animal).astype(int))\n",
        "\n",
        "    label_data(data, label, X, Y)\n",
        "    print(f\"Done {animal}!\")\n",
        "\n",
        "  X = np.concatenate(X, axis=0)\n",
        "  Y = np.concatenate(Y, axis=0)\n",
        "\n",
        "  return X, Y"
      ],
      "metadata": {
        "id": "kz08KB1ZvKcT"
      },
      "execution_count": null,
      "outputs": []
    },
    {
      "cell_type": "code",
      "source": [
        "X, Y = initialize_data()\n",
        "print(X.shape, Y.shape)"
      ],
      "metadata": {
        "colab": {
          "base_uri": "https://localhost:8080/"
        },
        "id": "fpfWUtyTu2t8",
        "outputId": "c8bcdcdb-79e0-4293-dff6-bbe53d06d45b"
      },
      "execution_count": null,
      "outputs": [
        {
          "output_type": "stream",
          "name": "stdout",
          "text": [
            "Processing cat...\n",
            "Done cat!\n",
            "Processing dog...\n",
            "Done dog!\n",
            "Processing dolphin...\n",
            "Done dolphin!\n",
            "Processing elephant...\n",
            "Done elephant!\n",
            "Processing zebra...\n",
            "Done zebra!\n",
            "(50000, 28, 28, 1) (50000, 5)\n"
          ]
        }
      ]
    },
    {
      "cell_type": "markdown",
      "source": [
        "Now we split the data into two sets, one for training and one for testing:\n",
        "\n"
      ],
      "metadata": {
        "id": "m2tq7SVg6lzx"
      }
    },
    {
      "cell_type": "code",
      "source": [
        "from sklearn.model_selection import train_test_split\n",
        "\n",
        "X_train, X_test, Y_train, Y_test = train_test_split(X, Y, test_size=0.2, random_state=42)\n",
        "print(X_train.shape, X_test.shape, Y_train.shape, Y_test.shape)"
      ],
      "metadata": {
        "colab": {
          "base_uri": "https://localhost:8080/"
        },
        "id": "5ORLhU6O6uRx",
        "outputId": "7220767d-e207-4e07-fb91-7d47d81b7990"
      },
      "execution_count": null,
      "outputs": [
        {
          "output_type": "stream",
          "name": "stdout",
          "text": [
            "(40000, 28, 28, 1) (10000, 28, 28, 1) (40000, 5) (10000, 5)\n"
          ]
        }
      ]
    },
    {
      "cell_type": "markdown",
      "source": [
        "# Training Data"
      ],
      "metadata": {
        "id": "rlACmWRutc2P"
      }
    },
    {
      "cell_type": "markdown",
      "source": [
        "We will build the convolution layer at first, but before it, we will discuss the math theory behind it. Let's see we have input with a picture of 28x28 and filter 3x3:"
      ],
      "metadata": {
        "id": "gtfUSkjqCvrQ"
      }
    },
    {
      "cell_type": "markdown",
      "source": [
        "$$\n",
        "X =\n",
        "\\begin{bmatrix}\n",
        "x_{11} & x_{12} & \\cdots & x_{1,28} \\\\\n",
        "x_{21} & x_{22} & \\cdots & x_{2,28} \\\\\n",
        "\\vdots & \\vdots & \\ddots & \\vdots \\\\\n",
        "x_{28,1} & x_{28,2} & \\cdots & x_{28,28}\n",
        "\\end{bmatrix} \\; , \\; \\; K =\n",
        "\\begin{bmatrix}\n",
        "w_{11} & w_{12} & w_{13} \\\\\n",
        "w_{21} & w_{22} & w_{23} \\\\\n",
        "w_{31} & w_{32} & w_{33}\n",
        "\\end{bmatrix}\n",
        "$$"
      ],
      "metadata": {
        "id": "wjGaBTcIE_vt"
      }
    },
    {
      "cell_type": "markdown",
      "metadata": {
        "id": "770e0721"
      },
      "source": [
        "We apply the convolution for X and K, that means we slide the kernel onto X and for each patch (m, n) while sliding we calculate:\n",
        "\\begin{align*}\n",
        "a_{m,n} &= \\sum_{i=0}^{2} \\sum_{j=0}^{2} x_{m+i, n+j} w_{i, j} \\\\\n",
        "\\end{align*}"
      ]
    },
    {
      "cell_type": "markdown",
      "source": [
        "To avoid the shape reducing, before convolution, we add zeros around the border of X, then Z becomes:\n",
        "$$\n",
        "Z = X * K + b = \\begin{bmatrix}\n",
        "a_{1,1} & a_{1,2} & \\cdots \\\\\n",
        "\\vdots & \\ddots & \\cdots \\\\\n",
        "a_{28, 1} & \\cdots & a_{28, 28}\n",
        "\\end{bmatrix} \\text{ (we also add bias)}\n",
        "$$"
      ],
      "metadata": {
        "id": "K9ag8SLcLSjz"
      }
    },
    {
      "cell_type": "markdown",
      "source": [
        "Then apply ReLu function to get the final feature map, we can see in general:"
      ],
      "metadata": {
        "id": "QKdzxLRUOgyG"
      }
    },
    {
      "cell_type": "markdown",
      "source": [
        "$$\n",
        "A = ReLu(Z) = ReLu(X * K + b) \\text{, with stride 1 and padding 1.}\n",
        "$$"
      ],
      "metadata": {
        "id": "O7EdVeiYOqS3"
      }
    },
    {
      "cell_type": "markdown",
      "source": [
        "We increase the strong features by applying pooling 2x2 onto A with stride 2, then we have pooling activated feature map:\n",
        "$$\n",
        "P = \\begin{bmatrix}\n",
        "p_{1,1} & p_{1,2} & \\cdots \\\\\n",
        "\\vdots & \\ddots & \\cdots \\\\\n",
        "p_{14, 1} & \\cdots & p_{14, 14}\n",
        "\\end{bmatrix}\n",
        "$$"
      ],
      "metadata": {
        "id": "sXOcMh84PZA0"
      }
    },
    {
      "cell_type": "markdown",
      "metadata": {
        "id": "2cce3914"
      },
      "source": [
        "We have done convolution layer 1 so far, now let's see in general our network design from **X input** to **X full connected dense layer**:\n",
        "\n",
        "$$\n",
        "X \\xrightarrow{\\text{conv}} Z^{[1]} \\xrightarrow{\\text{ReLu}} A^{[1]} \\xrightarrow{\\text{pooling}} P^{[1]} \\xrightarrow{\\text{conv}} Z^{[2]} \\xrightarrow{\\text{ReLu}} A^{[2]} \\xrightarrow{\\text{pooling}} P^{[2]}\n",
        "\\xrightarrow{\\text{Softmax}} X_{FC}\n",
        "$$"
      ]
    },
    {
      "cell_type": "markdown",
      "metadata": {
        "id": "16678f50"
      },
      "source": [
        "We have 2 layer for convolution, notice that the shape change by:\n",
        "$$\n",
        "m = \\frac{n+2p-f+1}{s}\n",
        "$$\n",
        "Which:\n",
        "  - $m$: Output size\n",
        "  - $n$: Input size\n",
        "  - $p$: Padding size\n",
        "  - $f$: Filter size or pooling size\n",
        "  - $s$: Stride size"
      ]
    },
    {
      "cell_type": "markdown",
      "source": [
        "Then we have pooling activated feature map in layer 2:\n",
        "$$\n",
        "P^{[2]} = \\begin{bmatrix}\n",
        "p_{1,1} & p_{1,2} & \\cdots \\\\\n",
        "\\vdots & \\ddots & \\cdots \\\\\n",
        "p_{7, 1} & \\cdots & p_{7, 7}\n",
        "\\end{bmatrix}\n",
        "$$"
      ],
      "metadata": {
        "id": "oH2Z4g2-TLo0"
      }
    },
    {
      "cell_type": "markdown",
      "source": [
        "In real code, more crazy, we have channel 1 for gray color of image and **32 filters** for layer 1, **64 filters** for layer 2 to detect more features. Then, the general mathematics looks like:"
      ],
      "metadata": {
        "id": "ib7HVNbacsZ7"
      }
    },
    {
      "cell_type": "markdown",
      "source": [
        "$$\n",
        "X =\n",
        "\\begin{bmatrix}\n",
        "x_{11} & x_{12} & \\cdots & x_{1,28} \\\\\n",
        "x_{21} & x_{22} & \\cdots & x_{2,28} \\\\\n",
        "\\vdots & \\vdots & \\ddots & \\vdots \\\\\n",
        "x_{28,1} & x_{28,2} & \\cdots & x_{28,28}\n",
        "\\end{bmatrix} \\; , \\; \\; K_1 =\n",
        "\\begin{bmatrix}\n",
        "k_1 & k_2 & \\cdots & k_{32}\n",
        "\\end{bmatrix}, K_2 =\n",
        "\\begin{bmatrix}\n",
        "k_1 & k_2 & \\cdots & k_{64}\n",
        "\\end{bmatrix}\n",
        "$$"
      ],
      "metadata": {
        "id": "C7uPiU24dcGI"
      }
    },
    {
      "cell_type": "markdown",
      "source": [
        "which for each $k_i$:\n",
        "$$\n",
        "k_{i}=\\begin{pmatrix}\n",
        "w_{i11} & w_{i12} & w_{i13} \\\\\n",
        "w_{i21} & w_{i22} & w_{i23} \\\\\n",
        "w_{i31} & w_{i32} & w_{i33}\n",
        "\\end{pmatrix}\n",
        "$$"
      ],
      "metadata": {
        "id": "Z5s9uZjLc5kC"
      }
    },
    {
      "cell_type": "code",
      "source": [
        "import torch\n",
        "\n",
        "def initialize_filters(filter_size, num_filters):\n",
        "  \"\"\"\n",
        "  Purpose:\n",
        "        - initialize the filters\n",
        "  Params:\n",
        "        - filter_size (int): size of the filter\n",
        "        - num_filters (int): number of filters\n",
        "  Returns:\n",
        "        - filters (dict):\n",
        "          • \"kernel\": kernel of the filter (tensor)\n",
        "          • \"bias\": bias of the filter (tensor)\n",
        "  \"\"\"\n",
        "  filters = {}\n",
        "  filters[\"K\"] = torch.randn(num_filters, filter_size, filter_size, requires_grad=True)\n",
        "  filters[\"b\"] = torch.randn(num_filters, requires_grad=True)\n",
        "  return filters"
      ],
      "metadata": {
        "id": "vIFZwdEf71h_"
      },
      "execution_count": null,
      "outputs": []
    },
    {
      "cell_type": "code",
      "source": [
        "layer1_filters = initialize_filters(3, 32)\n",
        "layer2_filters = initialize_filters(3, 64)\n",
        "print(\"X =\" , X[0].shape)\n",
        "print(\"K_1 =\", layer1_filters[\"K\"].shape[0])\n",
        "print(\"K_2 =\", layer2_filters[\"K\"].shape[0])\n",
        "print(\"k_i =\", layer1_filters[\"K\"][0].shape)"
      ],
      "metadata": {
        "colab": {
          "base_uri": "https://localhost:8080/"
        },
        "id": "zYgj47Nf-Id6",
        "outputId": "17330f53-ace4-4904-f74a-917f95812481"
      },
      "execution_count": null,
      "outputs": [
        {
          "output_type": "stream",
          "name": "stdout",
          "text": [
            "X = (28, 28, 1)\n",
            "K_1 = 32\n",
            "K_2 = 64\n",
            "k_i = torch.Size([3, 3])\n"
          ]
        }
      ]
    },
    {
      "cell_type": "markdown",
      "source": [
        "Then, we calculate for i in $K_1$:"
      ],
      "metadata": {
        "id": "8Qol5ezTeZOZ"
      }
    },
    {
      "cell_type": "markdown",
      "source": [
        "$$\n",
        "\\begin{align*}\n",
        "z_i &= X * k_i + b_1 \\\\\n",
        "a_i &= ReLu(z_i) \\\\\n",
        "p_i &= pooling(a_i) \\\\\n",
        "\\end{align*} \\\\\n",
        "\\therefore P^{[1]} \\text{ has shape (32, 14,14) as the channel replaced by number of filters} \\\\\n",
        "\\therefore P^{[2]} \\text{ is (64, 7, 7) as the same calculating.}\n",
        "$$\n"
      ],
      "metadata": {
        "id": "jQW68EuVerSg"
      }
    },
    {
      "cell_type": "markdown",
      "source": [
        "Notice that \"*\" is convolution operation."
      ],
      "metadata": {
        "id": "KajlL0eZAQC7"
      }
    },
    {
      "cell_type": "code",
      "source": [
        "import torch.nn.functional as F\n",
        "def convolution(X, filters):\n",
        "  return F.conv2d(X, filters[\"K\"], filters[\"b\"])\n",
        "\n",
        "def pooling(X):\n",
        "  return F.max_pool2d(X, 2, 2)\n",
        "\n",
        "def relu(X):\n",
        "  return F.relu(X)\n",
        "\n",
        "def forward_propagation_convolution_layer(X, filter, func):\n",
        "  \"\"\"\n",
        "    Purpose:\n",
        "        - forward propagation for convolution layer\n",
        "    Params:\n",
        "        - X (tensor): input of the layer\n",
        "        - filter (dict):\n",
        "          • \"kernel\": kernel of the filter (tensor)\n",
        "          • \"bias\": bias of the filter (tensor)\n",
        "        - func (function): activation function\n",
        "    Returns:\n",
        "        - P (tensor): output of the layer\n",
        "  \"\"\"\n",
        "  Z = convolution(X, filter)\n",
        "  A = func(Z)\n",
        "  P = pooling(A)\n",
        "  return P"
      ],
      "metadata": {
        "id": "_nF8U4Y4At1R"
      },
      "execution_count": null,
      "outputs": []
    },
    {
      "cell_type": "markdown",
      "source": [
        "We flatten it to get input for full connected layer as we can see **64x7x7=3136** and suppose we have n examples and 128 perceptron in dense layer 1, then:\n",
        "$$\n",
        "X_{FC} =\n",
        "\\begin{bmatrix}\n",
        "x_{11} & x_{12} & \\cdots & x_{1,3136} \\\\\n",
        "x_{21} & x_{22} & \\cdots & x_{2,3136} \\\\\n",
        "\\vdots & \\vdots & \\ddots & \\vdots \\\\\n",
        "x_{n,1} & x_{n,2} & \\cdots & x_{n,3136}\n",
        "\\end{bmatrix} \\; , \\; \\; W^{[1]} =\n",
        "\\begin{bmatrix}\n",
        "w_{11} & w_{12} & \\cdots & w_{1,128} \\\\\n",
        "w_{21} & w_{22} & \\cdots & w_{2,128} \\\\\n",
        "\\vdots & \\vdots & \\ddots & \\vdots \\\\\n",
        "w_{3136,1} & w_{3136,2} & \\cdots & w_{3136,128}\n",
        "\\end{bmatrix}\n",
        "$$"
      ],
      "metadata": {
        "id": "85N0IMU6hk9h"
      }
    },
    {
      "cell_type": "code",
      "source": [
        "def initial_parameters(layer_dims):\n",
        "  \"\"\"\n",
        "  Purpose:\n",
        "        - initialize the parameters\n",
        "  Params:\n",
        "        - layer_dims (list): list of number of perceptron in each layer (including input layer)\n",
        "        - X (tensor): input of the layer\n",
        "  Returns:\n",
        "        - parameters (dict):\n",
        "          • \"W\": weight of the layer (tensor)\n",
        "          • \"b\": bias of the layer (tensor)\n",
        "  \"\"\"\n",
        "  parameters = {}\n",
        "  L = len(layer_dims)\n",
        "  for l in range(1, L):\n",
        "    parameters[\"W\" + str(l)] = torch.randn(layer_dims[l-1], layer_dims[l], requires_grad=True)\n",
        "    parameters[\"b\" + str(l)] = torch.randn(layer_dims[l], requires_grad=True)\n",
        "  return parameters"
      ],
      "metadata": {
        "id": "-UnaO_W1CTvw"
      },
      "execution_count": null,
      "outputs": []
    },
    {
      "cell_type": "markdown",
      "source": [
        "$$\n",
        "\\begin{align*}\n",
        "\\therefore Z^{[1]} &= XW + b^{[1]} \\\\\n",
        "\\therefore A^{[1]} &= ReLu(Z^{[1]})\n",
        "\\end{align*}\n",
        "$$"
      ],
      "metadata": {
        "id": "s4YbbCV4frJz"
      }
    },
    {
      "cell_type": "markdown",
      "metadata": {
        "id": "5f7c34de"
      },
      "source": [
        "For layer 2, we have:\n",
        "\n",
        "$Softmax$: $$ \\frac{e^{z_i}}{\\sum_{j=1}^{K} e^{z_j}} $$\n",
        "- $K$: number of classes"
      ]
    },
    {
      "cell_type": "markdown",
      "metadata": {
        "id": "8103c93b"
      },
      "source": [
        "Then:\n",
        "$$\n",
        "A^{[2]} = Softmax(Z^{[2]}) = Softmax(Z^{[1]}W^{[2]} + b^{[2]})\n",
        "$$\n",
        "Which:\n",
        "- $W^{[2]}$: 5 percentrons equals to 5 class of output.\n"
      ]
    },
    {
      "cell_type": "code",
      "source": [],
      "metadata": {
        "id": "_7UPMnH5mM9Z"
      },
      "execution_count": null,
      "outputs": []
    }
  ]
}